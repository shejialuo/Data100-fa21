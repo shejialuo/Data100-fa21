{
 "cells": [
  {
   "cell_type": "code",
   "execution_count": 111,
   "metadata": {
    "deletable": false,
    "editable": false
   },
   "outputs": [],
   "source": [
    "# Initialize Otter\n",
    "import otter\n",
    "grader = otter.Notebook(\"hw2.ipynb\")"
   ]
  },
  {
   "cell_type": "markdown",
   "metadata": {
    "nbgrader": {
     "grade": false,
     "grade_id": "introduction",
     "locked": true,
     "schema_version": 2,
     "solution": false
    }
   },
   "source": [
    "# Homework 2: Sampling Error and Bias\n",
    "## Due Date: Thursday, Sept 9, 11:59PM\n",
    "\n",
    "## Collaboration Policy\n",
    "\n",
    "Data science is a collaborative activity. While you may talk with others about\n",
    "the homework, we ask that you **write your solutions individually**. If you do\n",
    "discuss the assignments with others please **include their names** below."
   ]
  },
  {
   "cell_type": "markdown",
   "metadata": {},
   "source": [
    "**Collaborators**: *list  collaborators here*"
   ]
  },
  {
   "cell_type": "markdown",
   "metadata": {},
   "source": [
    "## Grading\n",
    "\n",
    "Grading is broken down into autograded answers and free response. \n",
    "\n",
    "For autograded answers, the results of your code are compared to provided and/or hidden tests. **For autograded probability questions, the provided tests will only check that your answer is within a reasonable range.**\n",
    "\n",
    "For free response, readers will evaluate how well you answered the question and/or fulfilled the requirements of the question.\n",
    "\n",
    "For plots, make sure to be as descriptive as possible: include titles, axes labels, and units wherever applicable."
   ]
  },
  {
   "cell_type": "markdown",
   "metadata": {},
   "source": [
    "### Please make sure to save regularly; do not rely on autosave to save your work for you!"
   ]
  },
  {
   "cell_type": "markdown",
   "metadata": {},
   "source": [
    "## Scoring Breakdown\n",
    "\n",
    "|Question|Points|\n",
    "|---|---|\n",
    "|1.1|1|\n",
    "|1.2|1|\n",
    "|1.3|1|\n",
    "|2.1|1|\n",
    "|2.2|1|\n",
    "|2.3|2|\n",
    "|3.1|1|\n",
    "|3.2|1|\n",
    "|3.3|1|\n",
    "|3.4|1|\n",
    "|3.5|1|\n",
    "|3.6|2|\n",
    "|4.1|1|\n",
    "|4.2|1|\n",
    "|5|1|\n",
    "|6.1|2|\n",
    "|6.2|1|\n",
    "|6.3|1|\n",
    "|6.4|1|\n",
    "|6.5|2|\n",
    "|6.6|1|\n",
    "|7.1|1|\n",
    "|7.2|1|\n",
    "|7.3|2|\n",
    "|7.4|1|\n",
    "|8.1|1|\n",
    "|8.2|2|\n",
    "|9|2|\n",
    "|**Total**|35|\n"
   ]
  },
  {
   "cell_type": "markdown",
   "metadata": {},
   "source": [
    "## Introduction\n",
    "\n",
    "The outcome of the US presidential election in 2016 took many people and many pollsters by surprise. In this assignment we will carry out a simulation study / post mortem in an attempt to understand what happened. Doing such an analysis is especially important even though the 2020 federal elections have already occurred."
   ]
  },
  {
   "cell_type": "code",
   "execution_count": 112,
   "metadata": {},
   "outputs": [],
   "source": [
    "import numpy as np\n",
    "import matplotlib\n",
    "import matplotlib.pyplot as plt\n",
    "import seaborn as sns\n",
    "\n",
    "plt.style.use('fivethirtyeight')\n",
    "\n",
    "# Default plot configurations\n",
    "%matplotlib inline\n",
    "plt.rcParams['figure.figsize'] = (16,8)\n",
    "plt.rcParams['figure.dpi'] = 150\n",
    "sns.set()\n",
    "\n",
    "from IPython.display import display, Latex, Markdown"
   ]
  },
  {
   "cell_type": "markdown",
   "metadata": {},
   "source": [
    "## `SciPy` and `special` ##"
   ]
  },
  {
   "cell_type": "markdown",
   "metadata": {},
   "source": [
    "Factorials and the *binomial coefficients* $\\binom{n}{k} = \\frac{n!}{k!(n-k)!}$ get large very quickly as $n$ gets large. One way to compute them is to use the `SciPy` module `special`. `SciPy` is a collection of Python-based software for math, probability, statistics, science, and engineering."
   ]
  },
  {
   "cell_type": "code",
   "execution_count": 113,
   "metadata": {},
   "outputs": [],
   "source": [
    "from scipy import special"
   ]
  },
  {
   "cell_type": "markdown",
   "metadata": {},
   "source": [
    "Below are some examples of `special.factorial`:"
   ]
  },
  {
   "cell_type": "code",
   "execution_count": 114,
   "metadata": {},
   "outputs": [
    {
     "data": {
      "text/plain": [
       "(120.0, array([  1.,   2.,   6.,  24., 120.]))"
      ]
     },
     "execution_count": 114,
     "metadata": {},
     "output_type": "execute_result"
    }
   ],
   "source": [
    "special.factorial(5), special.factorial(range(1, 6))"
   ]
  },
  {
   "cell_type": "markdown",
   "metadata": {},
   "source": [
    "Traditionally, subsets of $k$ individuals out of a population of $n$ individuals are called *combinations*, and so `special.comb(n, k)` evaluates to $\\binom{n}{k}$. \n",
    "\n",
    "Note that we will always use the term *subsets* to mean un-ordered sets. We will use *permutations* in situations where we need to keep track of the order in which the elements appear.\n",
    "\n",
    "Look at the code and output below carefully (including types) before starting Question 1."
   ]
  },
  {
   "cell_type": "code",
   "execution_count": 115,
   "metadata": {},
   "outputs": [
    {
     "data": {
      "text/plain": [
       "(10.0, 10.0)"
      ]
     },
     "execution_count": 115,
     "metadata": {},
     "output_type": "execute_result"
    }
   ],
   "source": [
    "special.comb(5, 3), special.factorial(5) / (special.factorial(3) * special.factorial(2))"
   ]
  },
  {
   "cell_type": "code",
   "execution_count": 116,
   "metadata": {},
   "outputs": [
    {
     "data": {
      "text/plain": [
       "array([ 1.,  5., 10., 10.,  5.,  1.])"
      ]
     },
     "execution_count": 116,
     "metadata": {},
     "output_type": "execute_result"
    }
   ],
   "source": [
    "special.comb(5, range(6))"
   ]
  },
  {
   "cell_type": "code",
   "execution_count": 117,
   "metadata": {},
   "outputs": [
    {
     "data": {
      "text/plain": [
       "(1.0089134454556415e+29, 100891344545564193334812497256)"
      ]
     },
     "execution_count": 117,
     "metadata": {},
     "output_type": "execute_result"
    }
   ],
   "source": [
    "special.comb(100, 50), special.comb(100, 50, exact=True)"
   ]
  },
  {
   "cell_type": "markdown",
   "metadata": {},
   "source": [
    "### Question 1"
   ]
  },
  {
   "cell_type": "markdown",
   "metadata": {},
   "source": [
    "Consider a population in which a proportion $p$ of individuals are called \"successes\" (or 1, if you prefer) and the remaining proportion are rudely called \"failures\" (or 0).\n",
    "\n",
    "As we saw in lecture, if you draw a sample of size $n$ (where $n$ is some positive integer) at random with replacement from the population, then the number of successes is a random variable that follows the binomial distribution. The probability of drawing $k$ successes and $n-k$ failures is $\\binom{n}{k}p^k(1-p)^{n-k}$, for $0 \\leq k \\leq n$. To reduce writing, we will shorten \"$k$ successes and $n-k$ failures\" to \"$k$ successes\". In other words, \"$k$ successes\" means \"exactly $k$ successes\".\n",
    "\n",
    "To formalize notation: if $X$ is the number of successes we draw, then $P(X = k) = \\binom{n}{k}p^k(1-p)^{n-k}$."
   ]
  },
  {
   "cell_type": "markdown",
   "metadata": {
    "deletable": false,
    "editable": false
   },
   "source": [
    "### Question 1a) ###\n",
    "Suppose you sample 100 times at random with replacement from a population in which 26% of the individuals are successes. Write a Python expression that evaluates to the chance that the sample has 20 successes. \n",
    "\n",
    "**Computational note:** Don't import any other libraries; just use the ones already imported and plug into the formula above. It's far from the best way numerically, but it is fine for the numbers involved in this Homework. \n",
    "\n",
    "<!--\n",
    "BEGIN QUESTION\n",
    "name: q1a\n",
    "manual: false\n",
    "points: 1\n",
    "-->"
   ]
  },
  {
   "cell_type": "code",
   "execution_count": 118,
   "metadata": {},
   "outputs": [
    {
     "data": {
      "text/plain": [
       "0.036911003560024636"
      ]
     },
     "execution_count": 118,
     "metadata": {},
     "output_type": "execute_result"
    }
   ],
   "source": [
    "prob_1a = special.comb(100, 20) * 0.26 ** 20 * 0.74 ** 80\n",
    "prob_1a"
   ]
  },
  {
   "cell_type": "code",
   "execution_count": 119,
   "metadata": {
    "deletable": false,
    "editable": false
   },
   "outputs": [
    {
     "data": {
      "text/html": [
       "<p><strong><pre style='display: inline;'>q1a</pre></strong> passed!</p>"
      ],
      "text/plain": [
       "q1a results: All test cases passed!"
      ]
     },
     "execution_count": 119,
     "metadata": {},
     "output_type": "execute_result"
    }
   ],
   "source": [
    "grader.check(\"q1a\")"
   ]
  },
  {
   "cell_type": "markdown",
   "metadata": {
    "deletable": false,
    "editable": false
   },
   "source": [
    "### Question 1b) ###\n",
    "Complete the cell with a Python expression that evaluates to an array whose elements are the chances of $k$ successes for $k = 0, 1, 2, \\ldots, 100$. That is, `all_probs[k]` should contain $P(X = k)$, where $X$ is the random variable describing the number of successes drawn from the scenario outlined above.\n",
    "\n",
    "<!--\n",
    "BEGIN QUESTION\n",
    "name: q1b\n",
    "points: 1\n",
    "-->"
   ]
  },
  {
   "cell_type": "code",
   "execution_count": 120,
   "metadata": {},
   "outputs": [
    {
     "data": {
      "text/plain": [
       "(array([0.    , 0.    , 0.    , 0.    , 0.    , 0.    , 0.    , 0.    ,\n",
       "        0.    , 0.    , 0.    , 0.0001, 0.0003, 0.0007, 0.0016, 0.0033,\n",
       "        0.0061, 0.0106, 0.0171, 0.0259, 0.0369, 0.0494, 0.0623, 0.0743,\n",
       "        0.0837, 0.0894, 0.0906, 0.0873, 0.0799, 0.0697, 0.058 , 0.046 ,\n",
       "        0.0349, 0.0252, 0.0175, 0.0116, 0.0073, 0.0045, 0.0026, 0.0015,\n",
       "        0.0008, 0.0004, 0.0002, 0.0001, 0.    , 0.    , 0.    , 0.    ,\n",
       "        0.    , 0.    , 0.    , 0.    , 0.    , 0.    , 0.    , 0.    ,\n",
       "        0.    , 0.    , 0.    , 0.    , 0.    , 0.    , 0.    , 0.    ,\n",
       "        0.    , 0.    , 0.    , 0.    , 0.    , 0.    , 0.    , 0.    ,\n",
       "        0.    , 0.    , 0.    , 0.    , 0.    , 0.    , 0.    , 0.    ,\n",
       "        0.    , 0.    , 0.    , 0.    , 0.    , 0.    , 0.    , 0.    ,\n",
       "        0.    , 0.    , 0.    , 0.    , 0.    , 0.    , 0.    , 0.    ,\n",
       "        0.    , 0.    , 0.    , 0.    , 0.    ]),\n",
       " 0.9999999999999996)"
      ]
     },
     "execution_count": 120,
     "metadata": {},
     "output_type": "execute_result"
    }
   ],
   "source": [
    "k = np.arange(101)\n",
    "all_probs = special.comb(100, k) * 0.26 ** k * 0.74 ** (100 - k)\n",
    "np.round(all_probs, 4), sum(all_probs)"
   ]
  },
  {
   "cell_type": "code",
   "execution_count": 121,
   "metadata": {
    "deletable": false,
    "editable": false
   },
   "outputs": [
    {
     "data": {
      "text/html": [
       "<p><strong><pre style='display: inline;'>q1b</pre></strong> passed!</p>"
      ],
      "text/plain": [
       "q1b results: All test cases passed!"
      ]
     },
     "execution_count": 121,
     "metadata": {},
     "output_type": "execute_result"
    }
   ],
   "source": [
    "grader.check(\"q1b\")"
   ]
  },
  {
   "cell_type": "markdown",
   "metadata": {
    "deletable": false,
    "editable": false
   },
   "source": [
    "### Question 1c) ###\n",
    "\n",
    "\n",
    "Complete the cell with an expression that evaluates to the chance that the number of successes in the sample is in the interval $26 \\pm 10$ (inclusive on both sides). In other words, determine $P(16 \\leq X \\leq 36)$. **Hint: You might want to apply your Python indexing knowledge here.**\n",
    "\n",
    "**Note: Please assign your answer to `prob_1c`. Because we use an autograder, please make sure your answer is a proportion between 0 and 1, not a percent between 0 and 100.**\n",
    "\n",
    "<!--\n",
    "BEGIN QUESTION\n",
    "name: q1c\n",
    "manual: false\n",
    "points: 1\n",
    "-->"
   ]
  },
  {
   "cell_type": "code",
   "execution_count": 122,
   "metadata": {},
   "outputs": [],
   "source": [
    "prob_1c = sum(all_probs[15:36])"
   ]
  },
  {
   "cell_type": "code",
   "execution_count": 123,
   "metadata": {
    "deletable": false,
    "editable": false
   },
   "outputs": [
    {
     "data": {
      "text/html": [
       "<p><strong><pre style='display: inline;'>q1c</pre></strong> passed!</p>"
      ],
      "text/plain": [
       "q1c results: All test cases passed!"
      ]
     },
     "execution_count": 123,
     "metadata": {},
     "output_type": "execute_result"
    }
   ],
   "source": [
    "grader.check(\"q1c\")"
   ]
  },
  {
   "cell_type": "markdown",
   "metadata": {},
   "source": [
    "### Question 2"
   ]
  },
  {
   "cell_type": "markdown",
   "metadata": {},
   "source": [
    "Consider (once again) a sample of size $n$ drawn at random with replacement from a population in which a proportion $p$ of the individuals are called successes.\n",
    "\n",
    "Let $S$ be the random variable that denotes the number of successes in our sample. (As stated above, $S$ follows the binomial distribution.) Then, the probability that the number of successes in our sample is **at most** $s$ (where $0 \\leq s \\leq n$) is\n",
    "\n",
    "$$P(S \\leq s) = P(S = 0) + P(S = 1) + ... + P(S = s) = \\sum_{k=0}^s \\binom{n}{k}p^k(1-p)^{n-k}$$\n",
    "\n",
    "We obtain this by summing the probability that the number of successes is exactly $k$, for each value of $k = 0, 1, 2, ..., s$."
   ]
  },
  {
   "cell_type": "markdown",
   "metadata": {
    "deletable": false,
    "editable": false
   },
   "source": [
    "### Question 2a) ###\n",
    "\n",
    "Please fill in the function `prob_at_most` which takes $n$, $p$, and $s$ and returns $P(S \\le s)$ as defined above. If the inputs are invalid: for instance, if $p > 1$ OR $s > n$ then return 0. \n",
    "\n",
    "It might help to refer to the calculation in Question 1b.\n",
    "\n",
    "<!--\n",
    "BEGIN QUESTION\n",
    "name: q2a\n",
    "manual: false\n",
    "points: 1\n",
    "-->"
   ]
  },
  {
   "cell_type": "code",
   "execution_count": 124,
   "metadata": {},
   "outputs": [],
   "source": [
    "def prob_at_most(n, p, s):\n",
    "    \"\"\"\n",
    "    returns the probability of S <= s\n",
    "    Input n: sample size; p : proportion; s: number of successes at most\"\"\"\n",
    "    if p > 1 or s > n:\n",
    "        return 0\n",
    "    k = np.arange(s + 1)\n",
    "    probs_less_or_eq_s = special.comb(n, k) * p ** k * (1 - p) ** (n - k)\n",
    "    np.round(probs_less_or_eq_s, 4)\n",
    "    return sum(probs_less_or_eq_s)"
   ]
  },
  {
   "cell_type": "code",
   "execution_count": 125,
   "metadata": {
    "deletable": false,
    "editable": false
   },
   "outputs": [
    {
     "data": {
      "text/html": [
       "<p><strong><pre style='display: inline;'>q2a</pre></strong> passed!</p>"
      ],
      "text/plain": [
       "q2a results: All test cases passed!"
      ]
     },
     "execution_count": 125,
     "metadata": {},
     "output_type": "execute_result"
    }
   ],
   "source": [
    "grader.check(\"q2a\")"
   ]
  },
  {
   "cell_type": "markdown",
   "metadata": {
    "deletable": false,
    "editable": false
   },
   "source": [
    "### Question 2b) ###\n",
    "In an election, supporters of Candidate C are in a minority. Only 45% of the voters in the population favor the candidate.\n",
    "\n",
    "Suppose a survey organization takes a sample of 200 voters at random with replacement from this population. Use `prob_at_most` to write an expression that evaluates to the chance that a majority (more than half) of the sampled voters favor Candidate C.\n",
    "\n",
    "<!--\n",
    "BEGIN QUESTION\n",
    "name: q2b\n",
    "manual: false\n",
    "points: 1\n",
    "-->"
   ]
  },
  {
   "cell_type": "code",
   "execution_count": 126,
   "metadata": {},
   "outputs": [
    {
     "data": {
      "text/plain": [
       "0.06807524986263847"
      ]
     },
     "execution_count": 126,
     "metadata": {},
     "output_type": "execute_result"
    }
   ],
   "source": [
    "p_majority = 1 - prob_at_most(200, 0.45, 100)\n",
    "p_majority"
   ]
  },
  {
   "cell_type": "code",
   "execution_count": 127,
   "metadata": {
    "deletable": false,
    "editable": false
   },
   "outputs": [
    {
     "data": {
      "text/html": [
       "<p><strong><pre style='display: inline;'>q2b</pre></strong> passed!</p>"
      ],
      "text/plain": [
       "q2b results: All test cases passed!"
      ]
     },
     "execution_count": 127,
     "metadata": {},
     "output_type": "execute_result"
    }
   ],
   "source": [
    "grader.check(\"q2b\")"
   ]
  },
  {
   "cell_type": "markdown",
   "metadata": {
    "deletable": false,
    "editable": false
   },
   "source": [
    "### Question 2c) ###\n",
    "Suppose each of five survey organizations takes a sample of voters at random with replacement from the population of voters in Part **b**, independently of the samples drawn by the other organizations. \n",
    "\n",
    "- Three of the organizations use a sample size of 200\n",
    "- One organization uses a sample size of 300\n",
    "- One organization uses a sample size of 400\n",
    "\n",
    "Write an expression that evaluates to the chance that in at least one of the five samples the majority of voters favor Candidate C. You can use any quantity or function defined earlier in this exercise.\n",
    "\n",
    "<!--\n",
    "BEGIN QUESTION\n",
    "name: q2c\n",
    "manual: false\n",
    "points: 2\n",
    "-->"
   ]
  },
  {
   "cell_type": "code",
   "execution_count": 128,
   "metadata": {},
   "outputs": [
    {
     "data": {
      "text/plain": [
       "0.23550361568442357"
      ]
     },
     "execution_count": 128,
     "metadata": {},
     "output_type": "execute_result"
    }
   ],
   "source": [
    "prob_2c = 1 - prob_at_most(200, 0.45, 100) ** 3 * prob_at_most(300, 0.45, 150) * prob_at_most(400, 0.45, 200)\n",
    "prob_2c"
   ]
  },
  {
   "cell_type": "code",
   "execution_count": 129,
   "metadata": {
    "deletable": false,
    "editable": false
   },
   "outputs": [
    {
     "data": {
      "text/html": [
       "<p><strong><pre style='display: inline;'>q2c</pre></strong> passed!</p>"
      ],
      "text/plain": [
       "q2c results: All test cases passed!"
      ]
     },
     "execution_count": 129,
     "metadata": {},
     "output_type": "execute_result"
    }
   ],
   "source": [
    "grader.check(\"q2c\")"
   ]
  },
  {
   "cell_type": "markdown",
   "metadata": {},
   "source": [
    "### Question 3"
   ]
  },
  {
   "cell_type": "markdown",
   "metadata": {},
   "source": [
    "In Pennsylvania, 6,165,478 people voted in the 2016 Presidential election.\n",
    "Trump received 48.18% of the vote and Clinton recieved 47.46%.\n",
    "This doesn't add up to 100% because other candidates received votes.\n",
    "All together these other candidates received 100% - 48.18% - 47.46% = 4.36% of the vote.\n",
    "\n",
    "The table below displays the counts and proportions.\n",
    "\n",
    "\n",
    "|   Voted for   |  Trump|    Clinton|    Other|\n",
    "|-----------|-----------|-----------|---------|\n",
    "| Probability      |   0.4818   | 0.4746  |   0.0436 |\n",
    "| Number of people | 2,970,733  | 2,926,441 | 268,304 |"
   ]
  },
  {
   "cell_type": "markdown",
   "metadata": {
    "deletable": false,
    "editable": false
   },
   "source": [
    "### Question 3a) ###\n",
    "Suppose we pick a simple random sample of 20 of the 6,165,478 Pennsylvania (PA) voters. \n",
    "\n",
    "In the sample, let $N_T$ be the number of Trump voters, $N_C$ the number of Clinton voters, and $N_O$ the number of \"other\" voters. Then $N_T$, $N_C$, and $N_O$ are random: they depend on how the sample comes out. In Data 8 we called such quantities \"statistics\".\n",
    "\n",
    "Pick the correct option: $N_T + N_C + N_O$ is equal to\n",
    "\n",
    "<ol style=\"list-style-type: lower-alpha;\">\n",
    "    <li>3</li>\n",
    "    <li>20</li>\n",
    "    <li>6,165,478</li>\n",
    "    <li>a random quantity</li>\n",
    "</ol>\n",
    "\n",
    "*Note*: if your answer is (d), put  `ans_3a = 'd'`  for the purpose of grading. Passing the test **does NOT** mean you answer is correct. The test only checks if your answer is in the correct format.\n",
    "\n",
    "<!--\n",
    "BEGIN QUESTION\n",
    "name: q3a\n",
    "manual: false\n",
    "points: \n",
    "    - 0\n",
    "    - 1\n",
    "-->"
   ]
  },
  {
   "cell_type": "code",
   "execution_count": 130,
   "metadata": {},
   "outputs": [],
   "source": [
    "# Well if a person just can vote for one candidate.\n",
    "# The answer must be 20.\n",
    "ans_3a = 'b'"
   ]
  },
  {
   "cell_type": "code",
   "execution_count": 131,
   "metadata": {
    "deletable": false,
    "editable": false
   },
   "outputs": [
    {
     "data": {
      "text/html": [
       "<p><strong><pre style='display: inline;'>q3a</pre></strong> passed!</p>"
      ],
      "text/plain": [
       "q3a results: All test cases passed!"
      ]
     },
     "execution_count": 131,
     "metadata": {},
     "output_type": "execute_result"
    }
   ],
   "source": [
    "grader.check(\"q3a\")"
   ]
  },
  {
   "cell_type": "markdown",
   "metadata": {
    "deletable": false,
    "editable": false
   },
   "source": [
    "### Question 3b) ###\n",
    "Pick the correct option.\n",
    "\n",
    "A simple random sample of 20 PA voters is like a sample drawn at random with replacement, because\n",
    "\n",
    "<ol style=\"list-style-type: lower-alpha;\">\n",
    "<li>that's the definition of \"simple random sample\"</li>\n",
    "<li>there are only 3 categories of voters, which is small in comparison to 20</li>\n",
    "<li>there are only 20 people in the sample, which is small in comparison to the total number of PA voters</li>\n",
    "<li>all PA voters are equally likely to be selected</li>\n",
    "</ol>\n",
    "\n",
    "*Note*: if your answer is (d), put `ans_3b = 'd'`  for the purpose of grading. Passing the test **does NOT** mean you answer is correct. The test only checks if your answer is in the correct format.\n",
    "\n",
    "<!--\n",
    "BEGIN QUESTION\n",
    "name: q3b\n",
    "manual: false\n",
    "points: \n",
    "    - 0\n",
    "    - 1\n",
    "-->"
   ]
  },
  {
   "cell_type": "code",
   "execution_count": 132,
   "metadata": {},
   "outputs": [],
   "source": [
    "ans_3b = 'd'"
   ]
  },
  {
   "cell_type": "code",
   "execution_count": 133,
   "metadata": {
    "deletable": false,
    "editable": false
   },
   "outputs": [
    {
     "data": {
      "text/html": [
       "<p><strong><pre style='display: inline;'>q3b</pre></strong> passed!</p>"
      ],
      "text/plain": [
       "q3b results: All test cases passed!"
      ]
     },
     "execution_count": 133,
     "metadata": {},
     "output_type": "execute_result"
    }
   ],
   "source": [
    "grader.check(\"q3b\")"
   ]
  },
  {
   "cell_type": "markdown",
   "metadata": {
    "deletable": false,
    "editable": false
   },
   "source": [
    "### Question 3c) ###\n",
    "\n",
    "Let $t$, $c$, and $o$ be any three non-negative integers. For the sample defined in Part **a**, the probability that the sample contains $t$ Trump voters, $c$ Clinton voters and $o$ \"other\" voters is denoted by $P(N_T = t, N_C = c, N_O = o)$.\n",
    "\n",
    "Define a function `prob_sample_counts` that takes any three non-negative integers $t$, $c$, and $o$, and returns $P(N_T = t, N_C = c, N_O = o)$. The probability is 0 for some choices of the arguments, and your function should return 0 in those cases.\n",
    "\n",
    "Remember that Part **b** implies you can use results for sampling with replacement.\n",
    "\n",
    "What should `prob_sample_counts(31, 8, 1)` evaluate to? Check that your function returns the right value (No extra code/cells required).\n",
    "\n",
    "<!--\n",
    "BEGIN QUESTION\n",
    "name: q3c\n",
    "manual: false\n",
    "points: 1\n",
    "-->"
   ]
  },
  {
   "cell_type": "code",
   "execution_count": 134,
   "metadata": {},
   "outputs": [],
   "source": [
    "def prob_sample_counts(t, c, o):\n",
    "    \"\"\"\n",
    "    Input:\n",
    "    t - number of votes for Trump\n",
    "    c - number of votes for Clinton\n",
    "    o - number of votes for Other\n",
    "    Return: The probability of getting a such sample\n",
    "    \"\"\"\n",
    "    total_num = t + c + o\n",
    "    if total_num != 20 or (not 0 <= t <= 20) or (not 0 <= c <= 20) or (not 0 <= o <= 20):\n",
    "        return 0\n",
    "    factor = special.factorial(total_num) / (special.factorial(t) * special.factorial(c) * special.factorial(o))\n",
    "    return factor * (0.4818 ** t) * (0.4746 ** c) * (0.0436 ** o)"
   ]
  },
  {
   "cell_type": "code",
   "execution_count": 135,
   "metadata": {
    "deletable": false,
    "editable": false
   },
   "outputs": [
    {
     "data": {
      "text/html": [
       "<p><strong><pre style='display: inline;'>q3c</pre></strong> passed!</p>"
      ],
      "text/plain": [
       "q3c results: All test cases passed!"
      ]
     },
     "execution_count": 135,
     "metadata": {},
     "output_type": "execute_result"
    }
   ],
   "source": [
    "grader.check(\"q3c\")"
   ]
  },
  {
   "cell_type": "markdown",
   "metadata": {
    "deletable": false,
    "editable": false
   },
   "source": [
    "### Question 3d) ###\n",
    "\n",
    "Check that your function determines a probability distribution by summing all the positive terms. You know what the sum should be. **Hint: You might need to iterate through certain values of c and t to compute the sum of all positive probabilities.**\n",
    "\n",
    "<!--\n",
    "BEGIN QUESTION\n",
    "name: q3d\n",
    "manual: false\n",
    "points: 1\n",
    "-->"
   ]
  },
  {
   "cell_type": "code",
   "execution_count": 136,
   "metadata": {},
   "outputs": [
    {
     "data": {
      "text/plain": [
       "0.9999992095404489"
      ]
     },
     "execution_count": 136,
     "metadata": {},
     "output_type": "execute_result"
    }
   ],
   "source": [
    "prob_3d = 0\n",
    "for t in range(20):\n",
    "    for c in range(20):\n",
    "        prob_3d += prob_sample_counts(t, c, 20 - t - c)\n",
    "prob_3d"
   ]
  },
  {
   "cell_type": "code",
   "execution_count": 137,
   "metadata": {
    "deletable": false,
    "editable": false
   },
   "outputs": [
    {
     "data": {
      "text/html": [
       "<p><strong><pre style='display: inline;'>q3d</pre></strong> passed!</p>"
      ],
      "text/plain": [
       "q3d results: All test cases passed!"
      ]
     },
     "execution_count": 137,
     "metadata": {},
     "output_type": "execute_result"
    }
   ],
   "source": [
    "grader.check(\"q3d\")"
   ]
  },
  {
   "cell_type": "markdown",
   "metadata": {
    "deletable": false,
    "editable": false
   },
   "source": [
    "### Question 3e) ###\n",
    "Use `prob_sample_counts` to find the chance that the sample consists of 11 Trump voters, 8 Clinton voters, and 1 \"other\" voter.\n",
    "\n",
    "<!--\n",
    "BEGIN QUESTION\n",
    "name: q3e\n",
    "manual: false\n",
    "points: 1\n",
    "-->"
   ]
  },
  {
   "cell_type": "code",
   "execution_count": 138,
   "metadata": {},
   "outputs": [
    {
     "data": {
      "text/plain": [
       "0.055092374118670545"
      ]
     },
     "execution_count": 138,
     "metadata": {},
     "output_type": "execute_result"
    }
   ],
   "source": [
    "prob_3e = prob_sample_counts(11, 8, 1)\n",
    "prob_3e"
   ]
  },
  {
   "cell_type": "code",
   "execution_count": 139,
   "metadata": {
    "deletable": false,
    "editable": false
   },
   "outputs": [
    {
     "data": {
      "text/html": [
       "<p><strong><pre style='display: inline;'>q3e</pre></strong> passed!</p>"
      ],
      "text/plain": [
       "q3e results: All test cases passed!"
      ]
     },
     "execution_count": 139,
     "metadata": {},
     "output_type": "execute_result"
    }
   ],
   "source": [
    "grader.check(\"q3e\")"
   ]
  },
  {
   "cell_type": "markdown",
   "metadata": {
    "deletable": false,
    "editable": false
   },
   "source": [
    "### Question 3f) ###\n",
    "Write an expression that evaluates the chance that the sample contains at least 7 Trump voters, at least 7 Clinton voters, and at least 1 \"other\" voter. **Hint: You might find 3d useful.**\n",
    "\n",
    "<!--\n",
    "BEGIN QUESTION\n",
    "name: q3f\n",
    "manual: false\n",
    "points: 2\n",
    "-->"
   ]
  },
  {
   "cell_type": "code",
   "execution_count": 140,
   "metadata": {},
   "outputs": [
    {
     "data": {
      "text/plain": [
       "0.46938707665092416"
      ]
     },
     "execution_count": 140,
     "metadata": {},
     "output_type": "execute_result"
    }
   ],
   "source": [
    "prob_3f = 0\n",
    "for t in range(7, 20):\n",
    "    for c in range(7, 20):\n",
    "        if t >=7 and c >= 7 and (20 - t - c) >=1:\n",
    "            prob_3f += prob_sample_counts(t, c, 20 - t - c)\n",
    "prob_3f"
   ]
  },
  {
   "cell_type": "code",
   "execution_count": 141,
   "metadata": {
    "deletable": false,
    "editable": false
   },
   "outputs": [
    {
     "data": {
      "text/html": [
       "<p><strong><pre style='display: inline;'>q3f</pre></strong> passed!</p>"
      ],
      "text/plain": [
       "q3f results: All test cases passed!"
      ]
     },
     "execution_count": 141,
     "metadata": {},
     "output_type": "execute_result"
    }
   ],
   "source": [
    "grader.check(\"q3f\")"
   ]
  },
  {
   "cell_type": "markdown",
   "metadata": {
    "nbgrader": {
     "grade": false,
     "grade_id": "codebook",
     "locked": true,
     "schema_version": 2,
     "solution": false
    }
   },
   "source": [
    "## Election Polling\n",
    "\n",
    "Political polling is a type of public opinion polling that can at best represent a snapshot of public opinion at the particular moment in time. Voter opinion shifts from week to week, even day to day, as candidates battle it out on the campaign field.\n",
    "\n",
    "Polls usually start with a \"horse-race\" question, where respondents are asked whom they would vote for in a head-to-head race if the election were tomorrow: Candidate A or Candidate B. The survey begins with this question so that the respondent is not influenced by any of the other questions asked in the survey. Some of these other questions are asked to help assess how likely is it that the respondent will vote. Other questions are asked about age, education, and sex in order to adjust the findings if one group appears overly represented in the sample.\n",
    "\n",
    "Pollsters typically use [random digit dialing](https://en.wikipedia.org/wiki/Random_digit_dialing) to contact people."
   ]
  },
  {
   "cell_type": "markdown",
   "metadata": {},
   "source": [
    "### Question 4"
   ]
  },
  {
   "cell_type": "markdown",
   "metadata": {
    "deletable": false,
    "editable": false
   },
   "source": [
    "<!-- BEGIN QUESTION -->\n",
    "\n",
    "#### Part 1 ####\n",
    "\n",
    "If we're trying to predict the results of the Clinton vs. Trump presidential race, what is the population of interest? \n",
    "\n",
    "<!--\n",
    "BEGIN QUESTION\n",
    "name: q4a\n",
    "manual: true\n",
    "points: 1\n",
    "-->"
   ]
  },
  {
   "cell_type": "markdown",
   "metadata": {},
   "source": [
    "_Type your answer here, replacing this text._"
   ]
  },
  {
   "cell_type": "markdown",
   "metadata": {
    "deletable": false,
    "editable": false,
    "nbgrader": {
     "grade": false,
     "grade_id": "cell-5a5f851db609367a",
     "locked": true,
     "schema_version": 2,
     "solution": false
    }
   },
   "source": [
    "<!-- END QUESTION -->\n",
    "\n",
    "<!-- BEGIN QUESTION -->\n",
    "\n",
    "#### Part 2 ####\n",
    "\n",
    "What is the sampling frame?\n",
    "\n",
    "<!--\n",
    "BEGIN QUESTION\n",
    "name: q4b\n",
    "manual: true\n",
    "points: 1\n",
    "-->"
   ]
  },
  {
   "cell_type": "markdown",
   "metadata": {},
   "source": [
    "_Type your answer here, replacing this text._"
   ]
  },
  {
   "cell_type": "markdown",
   "metadata": {
    "nbgrader": {
     "grade": false,
     "grade_id": "examine-contents",
     "locked": true,
     "schema_version": 2,
     "solution": false
    }
   },
   "source": [
    "<!-- END QUESTION -->\n",
    "\n",
    "\n",
    "\n",
    "### How might the sampling frame differ from the population?\n",
    "\n",
    "After the fact, many experts have studied the 2016 election results. For example, according to the American Association for Public Opinion Research (AAPOR), predictions made before the election were flawed for three key reasons:\n",
    "\n",
    "1. voters changed their preferences a few days before the election\n",
    "2. those sampled were not representative of the voting population, e.g., some said that there was an overrepresentation of college graduates in some poll samples \n",
    "3. voters kept their support for Trump to themselves (hidden from the pollsters)\n",
    "\n",
    "In Questions 6 and 7, we will do two things:\n",
    "\n",
    "+ Question 6: We will carry out a study of the sampling error when there is no bias. In other words, we will try to compute the chance that we get the election result wrong even if we collect our sample in a manner that is completely correct. In this case, any failure of our prediction is due entirely to random chance.\n",
    "+ Question 7: We will carry out a study of the sampling error when there is bias of the second type from the list above. In other words, we will try to compute the chance that we get the election result wrong if we have a small systematic bias. In this case, any failure of our prediction is due to a combination of random chance and our bias.\n"
   ]
  },
  {
   "cell_type": "markdown",
   "metadata": {
    "deletable": false,
    "editable": false
   },
   "source": [
    "<!-- BEGIN QUESTION -->\n",
    "\n",
    "### Question 5\n",
    "\n",
    "Why can't we assess the impact of the other two biases (voters changing preference and voters hiding their preference)? \n",
    "\n",
    "Note: You might find it easier to complete this question after you've completed the rest of the homework including the simulation study.\n",
    "\n",
    "<!--\n",
    "BEGIN QUESTION\n",
    "name: q5\n",
    "manual: true\n",
    "points: 1\n",
    "-->"
   ]
  },
  {
   "cell_type": "markdown",
   "metadata": {},
   "source": [
    "_Type your answer here, replacing this text._"
   ]
  },
  {
   "cell_type": "markdown",
   "metadata": {
    "nbgrader": {
     "grade": false,
     "grade_id": "examine-size",
     "locked": true,
     "schema_version": 2,
     "solution": false
    }
   },
   "source": [
    "<!-- END QUESTION -->\n",
    "\n",
    "\n",
    "\n",
    "### How large was the sampling error?\n",
    "\n",
    "In some states the race was very close, and it may have been simply sampling error, i.e., random chance that the majority of the voters chosen for the sample voted for Clinton.\n",
    "\n",
    "A 2- or 3-point polling error in Trump’s favor (typical error historically) would likely be enough to tip the Electoral College to him.\n",
    "\n",
    "One year after the 2016 election, Nate Silver wrote in\n",
    "*The Media Has A Probability Problem* that\n",
    "the \"media’s demand for certainty -- and its lack of statistical rigor -- is a bad match for our complex world.\"\n",
    "FiveThirtyEight forecasted that Clinton had about a 70 percent chance of winning.  \n",
    "\n",
    "We will first carry out a simulation study to assess the impact of the sampling error on the predictions.\n"
   ]
  },
  {
   "cell_type": "markdown",
   "metadata": {
    "nbgrader": {
     "grade": false,
     "grade_id": "load-data",
     "locked": true,
     "schema_version": 2,
     "solution": false
    }
   },
   "source": [
    "## The Electoral College\n",
    "\n",
    "The US president is chosen by the Electoral College, not by the\n",
    "popular vote. Each state is alotted a certain number of \n",
    "electoral college votes, as a function of their population.\n",
    "Whomever wins in the state gets all of the electoral college votes for that state.\n",
    "\n",
    "There are 538 electoral college votes (hence the name of the Nate Silver's site, FiveThirtyEight).\n",
    "\n",
    "Pollsters correctly predicted the election outcome in 46 of the 50 states. \n",
    "For these 46 states Trump received 231 and Clinton received 232 electoral college votes.\n",
    "\n",
    "The remaining 4 states accounted for a total of 75 votes, and \n",
    "whichever candidate received the majority of the electoral college votes in these states would win the election. \n",
    "\n",
    "These states were Florida, Michigan, Pennsylvania, and Wisconsin.\n",
    "\n",
    "|State |Electoral College Votes|\n",
    "| --- | --- |\n",
    "|Florida | 29 |\n",
    "|Michigan | 16 |\n",
    "|Pennsylvania | 20 |\n",
    "|Wisconsin | 10|\n",
    "\n",
    "For Donald Trump to win the election, he had to win either:\n",
    "* Florida + one (or more) other states\n",
    "* Michigan, Pennsylvania, and Wisconsin\n",
    "\n",
    "\n",
    "The electoral margins were very narrow in these four states, as seen below:\n",
    "\n",
    "\n",
    "|State | Trump |   Clinton | Total Voters |\n",
    "| --- | --- |  --- |  --- |\n",
    "|Florida | 49.02 | 47.82 | 9,419,886  | \n",
    "|Michigan | 47.50 | 47.27  |  4,799,284|\n",
    "|Pennsylvania | 48.18 | 47.46 |  6,165,478|\n",
    "|Wisconsin | 47.22 | 46.45  |  2,976,150|\n",
    "\n",
    "Those narrow electoral margins can make it hard to predict the outcome given the sample sizes that the polls used. "
   ]
  },
  {
   "cell_type": "markdown",
   "metadata": {
    "nbgrader": {
     "grade": false,
     "grade_id": "q1",
     "locked": true,
     "schema_version": 2,
     "solution": false
    }
   },
   "source": [
    "---\n",
    "## Simulation Study of the Sampling Error\n",
    "\n",
    "Now that we know how people actually voted, we can carry\n",
    "out a simulation study that imitates the polling.\n",
    "\n",
    "Our ultimate goal in this problem is to understand the chance that we will incorrectly call the election for Hillary Clinton even if our sample was collected with absolutely no bias."
   ]
  },
  {
   "cell_type": "markdown",
   "metadata": {
    "deletable": false,
    "editable": false,
    "nbgrader": {
     "grade": false,
     "grade_id": "q1a",
     "locked": true,
     "schema_version": 2,
     "solution": false
    }
   },
   "source": [
    "### Question 6\n",
    "\n",
    "#### Part 1 \n",
    "\n",
    "For your convenience, the results of the vote in the four pivotal states is repeated below:\n",
    "\n",
    "|State | Trump |   Clinton | Total Voters |\n",
    "| --- | --- |  --- |  --- |\n",
    "|Florida | 49.02 | 47.82 | 9,419,886  | \n",
    "|Michigan | 47.50 | 47.27  |  4,799,284|\n",
    "|Pennsylvania | 48.18 | 47.46 |  6,165,478|\n",
    "|Wisconsin | 47.22 | 46.45  |  2,976,150|\n",
    "\n",
    "\n",
    "Using the table above, write a function `draw_state_sample(N, state)` that returns a sample with replacement of N voters from the given state. Your result should be returned as a list, where the first element is the number of Trump votes, the second element is the number of Clinton votes, and the third is the number of Other votes. For example, `draw_state_sample(1500, \"florida\")` could return `[727, 692, 81]`. You may assume that the state name is given in all lower case.\n",
    "\n",
    "You might find `np.random.multinomial` useful.\n",
    "\n",
    "<!--\n",
    "BEGIN QUESTION\n",
    "name: q6a\n",
    "points: 2\n",
    "-->"
   ]
  },
  {
   "cell_type": "code",
   "execution_count": 142,
   "metadata": {},
   "outputs": [],
   "source": [
    "def draw_state_sample(N, state):\n",
    "    d = {\n",
    "        'florida': [0.4902, 0.4782, 1 - 0.4902 - 0.4782],\n",
    "        'michigan': [0.4750, 0.4727, 1 - 0.4750 - 0.4727],\n",
    "        'pennsylvania': [0.4818, 0.4746, 1 - 0.4818 - 0.4746],\n",
    "        'wisconsin': [0.4722, 0.4645, 1 - 0.4722 - 0.4645]\n",
    "    }\n",
    "    return np.random.multinomial(N, d[state])"
   ]
  },
  {
   "cell_type": "code",
   "execution_count": 143,
   "metadata": {
    "deletable": false,
    "editable": false
   },
   "outputs": [
    {
     "data": {
      "text/html": [
       "<p><strong><pre style='display: inline;'>q6a</pre></strong> passed!</p>"
      ],
      "text/plain": [
       "q6a results: All test cases passed!"
      ]
     },
     "execution_count": 143,
     "metadata": {},
     "output_type": "execute_result"
    }
   ],
   "source": [
    "grader.check(\"q6a\")"
   ]
  },
  {
   "cell_type": "markdown",
   "metadata": {
    "deletable": false,
    "editable": false
   },
   "source": [
    "#### Part 2\n",
    "\n",
    "Now, create a function `trump_advantage` that takes in a sample of votes (like the one returned by `draw_state_sample`) and returns the difference in the proportion of votes between Trump and Clinton. For example `trump_advantage([100, 60, 40])` would return `0.2`, since Trump had 50% of the votes in this sample and Clinton had 30%.\n",
    "\n",
    "<!--\n",
    "BEGIN QUESTION\n",
    "name: q6b\n",
    "points: 1\n",
    "-->"
   ]
  },
  {
   "cell_type": "code",
   "execution_count": 144,
   "metadata": {},
   "outputs": [],
   "source": [
    "def trump_advantage(voter_sample):\n",
    "    return (voter_sample[0] - voter_sample[1]) / sum(voter_sample)"
   ]
  },
  {
   "cell_type": "code",
   "execution_count": 145,
   "metadata": {
    "deletable": false,
    "editable": false
   },
   "outputs": [
    {
     "data": {
      "text/html": [
       "<p><strong><pre style='display: inline;'>q6b</pre></strong> passed!</p>"
      ],
      "text/plain": [
       "q6b results: All test cases passed!"
      ]
     },
     "execution_count": 145,
     "metadata": {},
     "output_type": "execute_result"
    }
   ],
   "source": [
    "grader.check(\"q6b\")"
   ]
  },
  {
   "cell_type": "markdown",
   "metadata": {
    "deletable": false,
    "editable": false
   },
   "source": [
    "#### Part 3\n",
    "\n",
    "Simulate Trump's advantage across 100,000 samples of 1500 voters for the state of Pennsylvania and store the results of each simulation in a list called `simulations`. \n",
    "\n",
    "That is, `simulations[i]` should be Trump's proportion advantage for the `i+1`th simple random sample.\n",
    "\n",
    "<!--\n",
    "BEGIN QUESTION\n",
    "name: q6c\n",
    "points: 1\n",
    "-->"
   ]
  },
  {
   "cell_type": "code",
   "execution_count": 146,
   "metadata": {},
   "outputs": [],
   "source": [
    "simulations = [trump_advantage(draw_state_sample(1500, 'pennsylvania')) for i in range(100000)]"
   ]
  },
  {
   "cell_type": "code",
   "execution_count": 147,
   "metadata": {
    "deletable": false,
    "editable": false
   },
   "outputs": [
    {
     "data": {
      "text/html": [
       "<p><strong><pre style='display: inline;'>q6c</pre></strong> passed!</p>"
      ],
      "text/plain": [
       "q6c results: All test cases passed!"
      ]
     },
     "execution_count": 147,
     "metadata": {},
     "output_type": "execute_result"
    }
   ],
   "source": [
    "grader.check(\"q6c\")"
   ]
  },
  {
   "cell_type": "markdown",
   "metadata": {
    "deletable": false,
    "editable": false,
    "nbgrader": {
     "grade": false,
     "grade_id": "q1c",
     "locked": true,
     "schema_version": 2,
     "solution": false
    }
   },
   "source": [
    "<!-- BEGIN QUESTION -->\n",
    "\n",
    "#### Part 4\n",
    "\n",
    "Make a histogram of the sampling distribution of Trump's proportion advantage in Pennsylvania. Make sure to give your plot a title and add labels where appropriate.\n",
    "Hint: You should use the [`plt.hist`](https://matplotlib.org/3.1.1/api/_as_gen/matplotlib.pyplot.hist.html) function in your code.\n",
    "\n",
    "Make sure to include a title as well as axis labels. You can do this using `plt.title`, `plt.xlabel`, and `plt.ylabel`.\n",
    "\n",
    "<!--\n",
    "BEGIN QUESTION\n",
    "name: q6d\n",
    "manual: true\n",
    "points: 1\n",
    "-->"
   ]
  },
  {
   "cell_type": "code",
   "execution_count": 148,
   "metadata": {
    "scrolled": false
   },
   "outputs": [
    {
     "data": {
      "text/plain": [
       "Text(0, 0.5, \"Trump's proportion advantage\")"
      ]
     },
     "execution_count": 148,
     "metadata": {},
     "output_type": "execute_result"
    },
    {
     "data": {
      "image/png": "[encoded data removed]",
      "text/plain": [
       "<Figure size 2400x1200 with 1 Axes>"
      ]
     },
     "metadata": {},
     "output_type": "display_data"
    }
   ],
   "source": [
    "plt.hist(simulations)\n",
    "\n",
    "plt.title(\"Trump's proportion advantage in Pennsylvania\")\n",
    "plt.xlabel(\"proportion advantage\")\n",
    "plt.ylabel(\"Trump's proportion advantage\")"
   ]
  },
  {
   "cell_type": "markdown",
   "metadata": {
    "deletable": false,
    "editable": false
   },
   "source": [
    "<!-- END QUESTION -->\n",
    "\n",
    "#### Part 5\n",
    "\n",
    "Now write a function `trump_wins(N)` that creates a sample of N voters for each of the four crucial states (Florida, Michigan, Pennsylvania, and Wisconsin) and returns 1 if Trump is predicted to win based on these samples and 0 if Trump is predicted to lose.\n",
    "\n",
    "Recall that for Trump to win the election, he must either:\n",
    "* Win the state of Florida and 1 or more other states\n",
    "* Win Michigan, Pennsylvania, and Wisconsin\n",
    "\n",
    "<!--\n",
    "BEGIN QUESTION\n",
    "name: q6e\n",
    "manual: false\n",
    "points: 2\n",
    "-->"
   ]
  },
  {
   "cell_type": "code",
   "execution_count": 149,
   "metadata": {},
   "outputs": [],
   "source": [
    "def trump_wins(N):\n",
    "    states = ['florida', 'michigan', 'pennsylvania', 'wisconsin']\n",
    "    advantages = [trump_advantage(draw_state_sample(N, state)) for state in states]\n",
    "    advantages = [i > 0 for i in advantages]\n",
    "    if advantages[0]:\n",
    "        if any(advantages[1:]):\n",
    "            return 1\n",
    "        else:\n",
    "            return 0\n",
    "    else:\n",
    "        if all(advantages[1:]):\n",
    "            return 1\n",
    "        else:\n",
    "            return 0"
   ]
  },
  {
   "cell_type": "code",
   "execution_count": 150,
   "metadata": {
    "deletable": false,
    "editable": false
   },
   "outputs": [
    {
     "data": {
      "text/html": [
       "<p><strong><pre style='display: inline;'>q6e</pre></strong> passed!</p>"
      ],
      "text/plain": [
       "q6e results: All test cases passed!"
      ]
     },
     "execution_count": 150,
     "metadata": {},
     "output_type": "execute_result"
    }
   ],
   "source": [
    "grader.check(\"q6e\")"
   ]
  },
  {
   "cell_type": "markdown",
   "metadata": {
    "deletable": false,
    "editable": false
   },
   "source": [
    "#### Part 6\n",
    "\n",
    "If we repeat 100,000 simulations of the election, i.e. we call `trump_wins(1500)` 100,000 times, what proportion of these simulations predict a Trump victory? Give your answer as `proportion_trump`.\n",
    "\n",
    "This number represents the percent chance that a given sample will correctly predict Trump's victory *even if the sample was collected with absolutely no bias*. \n",
    "\n",
    "**Note: Many laypeople, even well educated ones, assume that this number should be 1. After all, how could a non-biased sample be wrong? This is the type of incredibly important intuition we hope to develop in you throughout this class and your future data science coursework.**\n",
    "\n",
    "<!--\n",
    "BEGIN QUESTION\n",
    "name: q6f\n",
    "manual: false\n",
    "points: 1\n",
    "-->"
   ]
  },
  {
   "cell_type": "code",
   "execution_count": 151,
   "metadata": {},
   "outputs": [
    {
     "data": {
      "text/plain": [
       "0.69547"
      ]
     },
     "execution_count": 151,
     "metadata": {},
     "output_type": "execute_result"
    }
   ],
   "source": [
    "proportion_trump = sum([trump_wins(1500) for i in range(100000)]) / 100000\n",
    "proportion_trump"
   ]
  },
  {
   "cell_type": "code",
   "execution_count": 152,
   "metadata": {
    "deletable": false,
    "editable": false
   },
   "outputs": [
    {
     "data": {
      "text/html": [
       "<p><strong><pre style='display: inline;'>q6f</pre></strong> passed!</p>"
      ],
      "text/plain": [
       "q6f results: All test cases passed!"
      ]
     },
     "execution_count": 152,
     "metadata": {},
     "output_type": "execute_result"
    }
   ],
   "source": [
    "grader.check(\"q6f\")"
   ]
  },
  {
   "cell_type": "markdown",
   "metadata": {},
   "source": [
    "We have just studied the sampling error, and found how \n",
    "our predictions might look if there was no bias in our \n",
    "sampling process. \n",
    "Essentially, we assumed that the people surveyed didn't change their minds, \n",
    "didn't hide who they voted for, and were representative\n",
    "of those who voted on election day."
   ]
  },
  {
   "cell_type": "markdown",
   "metadata": {
    "nbgrader": {
     "grade": false,
     "grade_id": "q2",
     "locked": true,
     "schema_version": 2,
     "solution": false
    }
   },
   "source": [
    "---\n",
    "## Simulation Study of Selection Bias\n",
    "\n",
    "According to [an article](https://blogs.lse.ac.uk/usappblog/2018/02/01/better-poll-sampling-would-have-cast-more-doubt-on-the-potential-for-hillary-clinton-to-win-the-2016-election/#Author) by Grotenhuis, Subramanian, Nieuwenhuis, Pelzer and Eisinga:\n",
    "\n",
    "> In a perfect world, polls sample from the population of voters, who would state their political preference perfectly clearly and then vote accordingly.\n",
    "\n",
    "That's the simulation study that we just performed. \n",
    "\n",
    "\n",
    "It's difficult to control for every source of selection bias.\n",
    "And, it's not possible to control for some of the other sources of bias.\n",
    "\n",
    "Next we investigate the effect of small sampling bias on the polling results in these four battleground states.  \n",
    "\n",
    "Throughout this problem, we'll examine the impacts of a 0.5 percent bias in favor of Clinton in each state. Such a bias has been suggested because highly educated voters tend to be more willing to participate in polls."
   ]
  },
  {
   "cell_type": "markdown",
   "metadata": {
    "deletable": false,
    "editable": false,
    "nbgrader": {
     "grade": false,
     "grade_id": "q2a",
     "locked": true,
     "schema_version": 2,
     "solution": false
    }
   },
   "source": [
    "### Question 7\n",
    "\n",
    "Throughout this problem, adjust the selection of voters so that there is a 0.5% bias in favor of Clinton in each of these states. \n",
    "\n",
    "For example, in Pennsylvania, Clinton received 47.46 percent of the votes and Trump 48.18 percent. Increase the population of Clinton voters to 47.46 + 0.5  percent and correspondingly decrease the percent of Trump voters. \n",
    "\n",
    "#### Part 1\n",
    "\n",
    "Simulate Trump's advantage across 100,000 simple random samples of 1500 voters for the state of Pennsylvania and store the results of each simulation in a list called `biased_simulations`.\n",
    "\n",
    "That is, `biased_simulations[i]` should hold the result of the `i+1`th simulation.\n",
    "\n",
    "That is, your answer to this problem should be just like your answer from Question 6 part 3, but now using samples that are biased as described above.\n",
    "\n",
    "<!--\n",
    "BEGIN QUESTION\n",
    "name: q7a\n",
    "points: 1\n",
    "-->"
   ]
  },
  {
   "cell_type": "code",
   "execution_count": 153,
   "metadata": {},
   "outputs": [],
   "source": [
    "def draw_biased_state_sample(N, state):\n",
    "    d = {\n",
    "        'florida': [0.4902 - 0.005, 0.4782 + 0.005, 1 - 0.4902 - 0.4782],\n",
    "        'michigan': [0.4750 - 0.005, 0.4727 + 0.005, 1 - 0.4750 - 0.4727],\n",
    "        'pennsylvania': [0.4818 - 0.005, 0.4746 + 0.005, 1 - 0.4818 - 0.4746],\n",
    "        'wisconsin': [0.4722 - 0.005, 0.4645 + 0.005, 1 - 0.4722 - 0.4645]\n",
    "    }\n",
    "    return np.random.multinomial(N, d[state])\n",
    "\n",
    "biased_simulations = [trump_advantage(draw_biased_state_sample(1500, 'pennsylvania')) for i in range(100000)]"
   ]
  },
  {
   "cell_type": "code",
   "execution_count": 154,
   "metadata": {
    "deletable": false,
    "editable": false
   },
   "outputs": [
    {
     "data": {
      "text/html": [
       "<p><strong><pre style='display: inline;'>q7a</pre></strong> passed!</p>"
      ],
      "text/plain": [
       "q7a results: All test cases passed!"
      ]
     },
     "execution_count": 154,
     "metadata": {},
     "output_type": "execute_result"
    }
   ],
   "source": [
    "grader.check(\"q7a\")"
   ]
  },
  {
   "cell_type": "markdown",
   "metadata": {
    "deletable": false,
    "editable": false
   },
   "source": [
    "<!-- BEGIN QUESTION -->\n",
    "\n",
    "#### Part 2\n",
    "\n",
    "Make a histogram of the new sampling distribution of Trump's proportion advantage now using these biased samples. That is, your histogram should be the same as in Q6.4, but now using the biased samples.\n",
    "\n",
    "Make sure to give your plot a title and add labels where appropriate.\n",
    "\n",
    "\n",
    "<!--\n",
    "BEGIN QUESTION\n",
    "name: q7b\n",
    "manual: true\n",
    "points: 1\n",
    "-->"
   ]
  },
  {
   "cell_type": "code",
   "execution_count": 155,
   "metadata": {},
   "outputs": [
    {
     "data": {
      "text/plain": [
       "Text(0, 0.5, \"Trump's proportion advantage(Biased)\")"
      ]
     },
     "execution_count": 155,
     "metadata": {},
     "output_type": "execute_result"
    },
    {
     "data": {
      "image/png": "[encoded data removed]",
      "text/plain": [
       "<Figure size 2400x1200 with 1 Axes>"
      ]
     },
     "metadata": {},
     "output_type": "display_data"
    }
   ],
   "source": [
    "plt.hist(biased_simulations)\n",
    "\n",
    "plt.title(\"Trump's proportion advantage in Pennsylvania(Biased)\")\n",
    "plt.xlabel(\"proportion advantage\")\n",
    "plt.ylabel(\"Trump's proportion advantage(Biased)\")"
   ]
  },
  {
   "cell_type": "markdown",
   "metadata": {
    "deletable": false,
    "editable": false
   },
   "source": [
    "<!-- END QUESTION -->\n",
    "\n",
    "<!-- BEGIN QUESTION -->\n",
    "\n",
    "#### Part 3\n",
    "\n",
    "Note some similarities and differences between the histogram you created in Q7.2 to that in Q6.4. \n",
    "\n",
    "**Hint: Although it is not required, you may find that plotting both histograms on top of each other will help in your analysis.**\n",
    "\n",
    "<!--\n",
    "BEGIN QUESTION\n",
    "name: q7c\n",
    "manual: true\n",
    "points: 2\n",
    "-->"
   ]
  },
  {
   "cell_type": "markdown",
   "metadata": {},
   "source": [
    "_Type your answer here, replacing this text._"
   ]
  },
  {
   "cell_type": "markdown",
   "metadata": {
    "deletable": false,
    "editable": false
   },
   "source": [
    "<!-- END QUESTION -->\n",
    "\n",
    "#### Part 4\n",
    "\n",
    "Now perform 100,000 simulations of all four states and return the proportion of these simulations that result in a Trump victory. This is the same fraction that you computed in Question 6 Part 6, but now using your biased samples.\n",
    "\n",
    "Give your answer as `proportion_trump_biased`.\n",
    "\n",
    "This number represents the chance that a sample biased 0.5% in Hillary Clinton's favor will correctly predict Trump's victory. You should observe that the chance is signficantly lower than with an unbiased sample, i.e. your answer in Q6.6.\n",
    "\n",
    "<!--\n",
    "BEGIN QUESTION\n",
    "name: q7d\n",
    "manual: false\n",
    "points: 1\n",
    "-->"
   ]
  },
  {
   "cell_type": "code",
   "execution_count": 156,
   "metadata": {},
   "outputs": [
    {
     "data": {
      "text/plain": [
       "0.46762"
      ]
     },
     "execution_count": 156,
     "metadata": {},
     "output_type": "execute_result"
    }
   ],
   "source": [
    "def trump_wins_biased(N): \n",
    "    states = ['florida', 'michigan', 'pennsylvania', 'wisconsin']\n",
    "    advantages = [trump_advantage(draw_biased_state_sample(N, state)) for state in states]\n",
    "    advantages = [i > 0 for i in advantages]\n",
    "    if advantages[0]:\n",
    "        if any(advantages[1:]):\n",
    "            return 1\n",
    "        else:\n",
    "            return 0\n",
    "    else:\n",
    "        if all(advantages[1:]):\n",
    "            return 1\n",
    "        else:\n",
    "            return 0\n",
    "\n",
    "proportion_trump_biased = sum([trump_wins_biased(1500) for i in range(100000)]) / 100000\n",
    "proportion_trump_biased"
   ]
  },
  {
   "cell_type": "code",
   "execution_count": 157,
   "metadata": {
    "deletable": false,
    "editable": false
   },
   "outputs": [
    {
     "data": {
      "text/html": [
       "<p><strong><pre style='display: inline;'>q7d</pre></strong> passed!</p>"
      ],
      "text/plain": [
       "q7d results: All test cases passed!"
      ]
     },
     "execution_count": 157,
     "metadata": {},
     "output_type": "execute_result"
    }
   ],
   "source": [
    "grader.check(\"q7d\")"
   ]
  },
  {
   "cell_type": "markdown",
   "metadata": {},
   "source": [
    "## Further Study\n"
   ]
  },
  {
   "cell_type": "markdown",
   "metadata": {
    "deletable": false,
    "editable": false,
    "nbgrader": {
     "grade": false,
     "grade_id": "q2c",
     "locked": true,
     "schema_version": 2,
     "solution": false
    }
   },
   "source": [
    "### Question 8\n",
    "\n",
    "Would increasing the sample size have helped?\n",
    "\n",
    "#### Part 1\n",
    "\n",
    "Try a sample size of 5,000 and run 100,000 simulations of a sample with replacement. What proportion of the 100,000 times is Trump predicted to win the election in the unbiased setting? In the biased setting?\n",
    "\n",
    "Give your answers as `high_sample_size_unbiased_proportion_trump` and `high_sample_size_biased_proportion_trump`.\n",
    "\n",
    "*Note: Don't worry if your solution takes a while to run.* \n",
    "\n",
    "<!--\n",
    "BEGIN QUESTION\n",
    "name: q8a\n",
    "manual: false\n",
    "points: 1\n",
    "-->\n",
    "\n"
   ]
  },
  {
   "cell_type": "code",
   "execution_count": 158,
   "metadata": {},
   "outputs": [
    {
     "name": "stdout",
     "output_type": "stream",
     "text": [
      "0.82787 0.44498\n"
     ]
    }
   ],
   "source": [
    "high_sample_size_unbiased_proportion_trump = sum([trump_wins(5000) for i in range(100000)]) / 100000\n",
    "high_sample_size_biased_proportion_trump = sum([trump_wins_biased(5000) for i in range(100000)]) / 100000\n",
    "print(high_sample_size_unbiased_proportion_trump, high_sample_size_biased_proportion_trump)"
   ]
  },
  {
   "cell_type": "code",
   "execution_count": 159,
   "metadata": {
    "deletable": false,
    "editable": false
   },
   "outputs": [
    {
     "data": {
      "text/html": [
       "<p><strong><pre style='display: inline;'>q8a</pre></strong> passed!</p>"
      ],
      "text/plain": [
       "q8a results: All test cases passed!"
      ]
     },
     "execution_count": 159,
     "metadata": {},
     "output_type": "execute_result"
    }
   ],
   "source": [
    "grader.check(\"q8a\")"
   ]
  },
  {
   "cell_type": "markdown",
   "metadata": {},
   "source": [
    "#### Part 2\n",
    "\n",
    "What do your observations from Part 1 say about the impact of sample size\n",
    "on the sampling error and on the bias?   \n",
    "\n",
    "Extra question for those who are curious: Just for fun, you might find it interesting to see what happens with even larger sample sizes (> 5000 voters) for both the unbiased and biased cases. Can you get them up to 99% success with sufficient large samples? How many? Why or why not? If you do this, include your observations in your answer."
   ]
  },
  {
   "cell_type": "code",
   "execution_count": 160,
   "metadata": {},
   "outputs": [
    {
     "data": {
      "image/png": "[encoded data removed]",
      "text/plain": [
       "<Figure size 2400x1200 with 1 Axes>"
      ]
     },
     "metadata": {},
     "output_type": "display_data"
    }
   ],
   "source": [
    "x = np.linspace(1, 10000., 20)\n",
    "unbiased, biased = [], []\n",
    "for cnt in x:\n",
    "    unbiased.append(sum([trump_wins(cnt) for i in range(100000)]) / 100000)\n",
    "    biased.append(sum([trump_wins_biased(cnt) for i in range(100000)]) / 100000)\n",
    "unbiased = np.array(unbiased)\n",
    "biased = np.array(biased)\n",
    "\n",
    "plt.plot(x, unbiased)\n",
    "plt.plot(x, biased)\n",
    "\n",
    "plt.legend(labels=[\"unbiased\", \"biased\"], loc='best')\n",
    "plt.title(\"Compare unbiased and biased\")\n",
    "plt.xlabel(\"Sample size\")\n",
    "plt.ylabel(\"Trump wins\")\n",
    "\n",
    "plt.show()"
   ]
  },
  {
   "cell_type": "markdown",
   "metadata": {
    "deletable": false,
    "editable": false
   },
   "source": [
    "<!-- BEGIN QUESTION -->\n",
    "\n",
    "Write your answer in the cell below.\n",
    "\n",
    "<!--\n",
    "BEGIN QUESTION\n",
    "name: q8b\n",
    "manual: true\n",
    "points: 2\n",
    "-->"
   ]
  },
  {
   "cell_type": "markdown",
   "metadata": {},
   "source": [
    "_Type your answer here, replacing this text._"
   ]
  },
  {
   "cell_type": "markdown",
   "metadata": {
    "deletable": false,
    "editable": false
   },
   "source": [
    "<!-- END QUESTION -->\n",
    "\n",
    "<!-- BEGIN QUESTION -->\n",
    "\n",
    "### Question 9\n",
    "\n",
    "According to FiveThirtyEight: \"... Polls of the November 2016 presidential election were about as accurate as polls of presidential elections have been on average since 1972.\"\n",
    "\n",
    "When the margin of victory may be relatively small as it was in 2016, why don't polling agencies simply gather significantly larger samples to bring this error close to zero? Consider whether or not drawing larger samples will reduce the particular bias inherent in our problem.  \n",
    "\n",
    "<!--\n",
    "BEGIN QUESTION\n",
    "name: q9\n",
    "manual: true\n",
    "points: 2\n",
    "-->"
   ]
  },
  {
   "cell_type": "markdown",
   "metadata": {},
   "source": [
    "_Type your answer here, replacing this text._"
   ]
  },
  {
   "cell_type": "markdown",
   "metadata": {},
   "source": [
    "<!-- END QUESTION -->\n",
    "\n",
    "\n",
    "\n",
    "**Important**: To make sure the test cases run correctly, click `Kernel>Restart & Run All` and make sure all of the test cases are still passing."
   ]
  },
  {
   "cell_type": "markdown",
   "metadata": {
    "deletable": false,
    "editable": false
   },
   "source": [
    "---\n",
    "\n",
    "To double-check your work, the cell below will rerun all of the autograder tests."
   ]
  },
  {
   "cell_type": "code",
   "execution_count": 161,
   "metadata": {
    "deletable": false,
    "editable": false
   },
   "outputs": [
    {
     "data": {
      "text/html": [
       "<p><strong><pre style='display: inline;'>q1a</pre></strong> passed!</p>\n",
       "\n",
       "<p><strong><pre style='display: inline;'>q1b</pre></strong> passed!</p>\n",
       "\n",
       "<p><strong><pre style='display: inline;'>q1c</pre></strong> passed!</p>\n",
       "\n",
       "<p><strong><pre style='display: inline;'>q2a</pre></strong> passed!</p>\n",
       "\n",
       "<p><strong><pre style='display: inline;'>q2b</pre></strong> passed!</p>\n",
       "\n",
       "<p><strong><pre style='display: inline;'>q2c</pre></strong> passed!</p>\n",
       "\n",
       "<p><strong><pre style='display: inline;'>q3a</pre></strong> passed!</p>\n",
       "\n",
       "<p><strong><pre style='display: inline;'>q3b</pre></strong> passed!</p>\n",
       "\n",
       "<p><strong><pre style='display: inline;'>q3c</pre></strong> passed!</p>\n",
       "\n",
       "<p><strong><pre style='display: inline;'>q3d</pre></strong> passed!</p>\n",
       "\n",
       "<p><strong><pre style='display: inline;'>q3e</pre></strong> passed!</p>\n",
       "\n",
       "<p><strong><pre style='display: inline;'>q3f</pre></strong> passed!</p>\n",
       "\n",
       "<p><strong><pre style='display: inline;'>q6a</pre></strong> passed!</p>\n",
       "\n",
       "<p><strong><pre style='display: inline;'>q6b</pre></strong> passed!</p>\n",
       "\n",
       "<p><strong><pre style='display: inline;'>q6c</pre></strong> passed!</p>\n",
       "\n",
       "<p><strong><pre style='display: inline;'>q6e</pre></strong> passed!</p>\n",
       "\n",
       "<p><strong><pre style='display: inline;'>q6f</pre></strong> passed!</p>\n",
       "\n",
       "<p><strong><pre style='display: inline;'>q7a</pre></strong> passed!</p>\n",
       "\n",
       "<p><strong><pre style='display: inline;'>q7d</pre></strong> passed!</p>\n",
       "\n",
       "<p><strong><pre style='display: inline;'>q8a</pre></strong> passed!</p>\n",
       "\n"
      ],
      "text/plain": [
       "q1a results: All test cases passed!\n",
       "\n",
       "q1b results: All test cases passed!\n",
       "\n",
       "q1c results: All test cases passed!\n",
       "\n",
       "q2a results: All test cases passed!\n",
       "\n",
       "q2b results: All test cases passed!\n",
       "\n",
       "q2c results: All test cases passed!\n",
       "\n",
       "q3a results: All test cases passed!\n",
       "\n",
       "q3b results: All test cases passed!\n",
       "\n",
       "q3c results: All test cases passed!\n",
       "\n",
       "q3d results: All test cases passed!\n",
       "\n",
       "q3e results: All test cases passed!\n",
       "\n",
       "q3f results: All test cases passed!\n",
       "\n",
       "q6a results: All test cases passed!\n",
       "\n",
       "q6b results: All test cases passed!\n",
       "\n",
       "q6c results: All test cases passed!\n",
       "\n",
       "q6e results: All test cases passed!\n",
       "\n",
       "q6f results: All test cases passed!\n",
       "\n",
       "q7a results: All test cases passed!\n",
       "\n",
       "q7d results: All test cases passed!\n",
       "\n",
       "q8a results: All test cases passed!\n"
      ]
     },
     "execution_count": 161,
     "metadata": {},
     "output_type": "execute_result"
    }
   ],
   "source": [
    "grader.check_all()"
   ]
  },
  {
   "cell_type": "markdown",
   "metadata": {
    "deletable": false,
    "editable": false
   },
   "source": [
    "## Submission\n",
    "\n",
    "Make sure you have run all cells in your notebook in order before running the cell below, so that all images/graphs appear in the output. The cell below will generate a zip file for you to submit. **Please save before exporting!**"
   ]
  },
  {
   "cell_type": "code",
   "execution_count": 162,
   "metadata": {
    "deletable": false,
    "editable": false
   },
   "outputs": [
    {
     "data": {
      "text/html": [
       "\n",
       "                <p>Your submission has been exported. Click <a href=\"hw2_2022_09_28T20_22_48_108228.zip\" target=\"_blank\">here</a>\n",
       "                to download the zip file.</p>\n",
       "                "
      ],
      "text/plain": [
       "<IPython.core.display.HTML object>"
      ]
     },
     "metadata": {},
     "output_type": "display_data"
    }
   ],
   "source": [
    "# Save your notebook first, then run this cell to export your submission.\n",
    "grader.export()"
   ]
  },
  {
   "cell_type": "markdown",
   "metadata": {},
   "source": [
    " "
   ]
  }
 ],
 "metadata": {
  "celltoolbar": "Create Assignment",
  "kernelspec": {
   "display_name": "Python 3.10.7 64-bit",
   "language": "python",
   "name": "python3"
  },
  "language_info": {
   "codemirror_mode": {
    "name": "ipython",
    "version": 3
   },
   "file_extension": ".py",
   "mimetype": "text/x-python",
   "name": "python",
   "nbconvert_exporter": "python",
   "pygments_lexer": "ipython3",
   "version": "3.10.7"
  },
  "vscode": {
   "interpreter": {
    "hash": "e7370f93d1d0cde622a1f8e1c04877d8463912d04d973331ad4851f04de6915a"
   }
  }
 },
 "nbformat": 4,
 "nbformat_minor": 4
}
